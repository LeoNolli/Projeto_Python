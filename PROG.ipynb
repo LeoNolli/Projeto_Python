{
 "cells": [
  {
   "cell_type": "code",
   "execution_count": 7,
   "metadata": {},
   "outputs": [
    {
     "data": {
      "text/plain": [
       "<Figure size 640x480 with 0 Axes>"
      ]
     },
     "metadata": {},
     "output_type": "display_data"
    },
    {
     "data": {
      "text/plain": [
       "<Figure size 400x300 with 0 Axes>"
      ]
     },
     "metadata": {},
     "output_type": "display_data"
    },
    {
     "data": {
      "text/plain": [
       "<Figure size 400x300 with 0 Axes>"
      ]
     },
     "metadata": {},
     "output_type": "display_data"
    },
    {
     "data": {
      "text/plain": [
       "<Figure size 400x300 with 0 Axes>"
      ]
     },
     "metadata": {},
     "output_type": "display_data"
    },
    {
     "data": {
      "text/plain": [
       "<Figure size 400x300 with 0 Axes>"
      ]
     },
     "metadata": {},
     "output_type": "display_data"
    },
    {
     "data": {
      "image/png": "[encoded data removed]",
      "text/plain": [
       "<Figure size 400x300 with 1 Axes>"
      ]
     },
     "metadata": {},
     "output_type": "display_data"
    }
   ],
   "source": [
    "import tkinter as tk\n",
    "from tkinter import ttk\n",
    "from tkinter import messagebox\n",
    "import pandas as pd\n",
    "import matplotlib.pyplot as plt\n",
    "from matplotlib.backends.backend_tkagg import FigureCanvasTkAgg\n",
    "import os\n",
    "\n",
    "# Função para gerar a tabela e o gráfico\n",
    "def gerar_tabela_e_grafico():\n",
    "    if os.path.exists('chamados.csv'):\n",
    "        df = pd.read_csv('chamados.csv')\n",
    "        counts = df['Tipo Problema'].value_counts()\n",
    "\n",
    "        for i in tree.get_children():\n",
    "            tree.delete(i)\n",
    "\n",
    "        for index, row in df.iterrows():\n",
    "            tree.insert(\"\", \"end\", values=(row['Nome'], row['Tipo Problema'], row['Descrição Problema']))\n",
    "\n",
    "        plt.clf()\n",
    "        fig, ax = plt.subplots(figsize=(4, 3))\n",
    "        \n",
    "        if not counts.empty:  # Verifica se 'counts' não está vazio\n",
    "            counts.plot(kind='bar', ax=ax)\n",
    "            ax.set_title('Quantidade de Chamados de Hardware e Software')\n",
    "            ax.set_xlabel('Tipo de Problema')\n",
    "            ax.set_ylabel('Quantidade')\n",
    "        \n",
    "        canvas = FigureCanvasTkAgg(fig, master=frame)\n",
    "        canvas_widget = canvas.get_tk_widget()\n",
    "        canvas_widget.grid(row=6, columnspan=2)\n",
    "\n",
    "    else:\n",
    "        messagebox.showwarning(\"Banco de Dados Não Encontrado\", \"O banco de dados não foi encontrado.\")\n",
    "\n",
    "# Função para salvar os dados e atualizar a tabela e o gráfico\n",
    "def salvar_e_atualizar():\n",
    "    nome = entry_nome.get()\n",
    "    tipo_problema = combo_tipo.get()\n",
    "    descricao_problema = entry_descricao.get()\n",
    "\n",
    "    df = pd.DataFrame({'Nome': [nome], 'Tipo Problema': [tipo_problema], 'Descrição Problema': [descricao_problema]})\n",
    "\n",
    "    try:\n",
    "        df_existente = pd.read_csv('chamados.csv')\n",
    "        df = pd.concat([df_existente, df], ignore_index=True)\n",
    "    except FileNotFoundError:\n",
    "        pass\n",
    "\n",
    "    df.to_csv('chamados.csv', index=False)\n",
    "\n",
    "    gerar_tabela_e_grafico()\n",
    "\n",
    "def receber_outra_entrada():\n",
    "    entry_nome.delete(0, 'end')\n",
    "    combo_tipo.set('')\n",
    "    entry_descricao.delete(0, 'end')\n",
    "\n",
    "app = tk.Tk()\n",
    "app.title(\"Registro de Chamados\")\n",
    "\n",
    "frame = ttk.Frame(app, padding=\"10\")\n",
    "frame.grid(column=0, row=0, sticky=(tk.W, tk.E, tk.N, tk.S))\n",
    "\n",
    "style = ttk.Style()\n",
    "style.configure('TLabel', font=('Arial', 12))\n",
    "style.configure('TEntry', font=('Arial', 12))\n",
    "style.configure('TButton', font=('Arial', 12))\n",
    "\n",
    "label_nome = ttk.Label(frame, text=\"Nome do Usuário:\")\n",
    "label_nome.grid(row=0, column=0, sticky=tk.W)\n",
    "\n",
    "entry_nome = ttk.Entry(frame)\n",
    "entry_nome.grid(row=0, column=1)\n",
    "\n",
    "label_tipo = ttk.Label(frame, text=\"Tipo de Problema:\")\n",
    "label_tipo.grid(row=1, column=0, sticky=tk.W)\n",
    "\n",
    "combo_tipo = ttk.Combobox(frame, values=[\"Hardware\", \"Software\"])\n",
    "combo_tipo.grid(row=1, column=1)\n",
    "\n",
    "label_descricao = ttk.Label(frame, text=\"Descrição do Problema:\")\n",
    "label_descricao.grid(row=2, column=0, sticky=tk.W)\n",
    "\n",
    "entry_descricao = ttk.Entry(frame)\n",
    "entry_descricao.grid(row=2, column=1)\n",
    "\n",
    "btn_salvar = ttk.Button(frame, text=\"Salvar e Atualizar\", command=salvar_e_atualizar)\n",
    "btn_salvar.grid(row=3, columnspan=2)\n",
    "\n",
    "btn_receber_outra_entrada = ttk.Button(frame, text=\"Receber Outra Entrada\", command=receber_outra_entrada)\n",
    "btn_receber_outra_entrada.grid(row=4, columnspan=2)\n",
    "\n",
    "tree = ttk.Treeview(frame, columns=(\"Nome\", \"Tipo Problema\", \"Descrição Problema\"), show=\"headings\")\n",
    "tree.heading(\"Nome\", text=\"Nome\")\n",
    "tree.heading(\"Tipo Problema\", text=\"Tipo Problema\")\n",
    "tree.heading(\"Descrição Problema\", text=\"Descrição Problema\")\n",
    "tree.grid(row=5, columnspan=2)\n",
    "\n",
    "gerar_tabela_e_grafico()\n",
    "\n",
    "app.mainloop()\n"
   ]
  },
  {
   "cell_type": "code",
   "execution_count": 1,
   "metadata": {},
   "outputs": [
    {
     "name": "stdout",
     "output_type": "stream",
     "text": [
      "Note: you may need to restart the kernel to use updated packages.\n"
     ]
    },
    {
     "name": "stderr",
     "output_type": "stream",
     "text": [
      "ERROR: Could not find a version that satisfies the requirement tkinter (from versions: none)\n",
      "ERROR: No matching distribution found for tkinter\n",
      "\n",
      "[notice] A new release of pip is available: 23.1.2 -> 23.2.1\n",
      "[notice] To update, run: python.exe -m pip install --upgrade pip\n"
     ]
    }
   ],
   "source": [
    "pip install tkinter"
   ]
  },
  {
   "cell_type": "code",
   "execution_count": 2,
   "metadata": {},
   "outputs": [
    {
     "name": "stdout",
     "output_type": "stream",
     "text": [
      "Collecting pandas\n",
      "  Downloading pandas-2.1.1-cp311-cp311-win_amd64.whl (10.6 MB)\n",
      "                                              0.0/10.6 MB ? eta -:--:--\n",
      "                                              0.0/10.6 MB ? eta -:--:--\n",
      "                                              0.1/10.6 MB 1.5 MB/s eta 0:00:07\n",
      "                                              0.1/10.6 MB 1.3 MB/s eta 0:00:09\n",
      "                                             0.1/10.6 MB 798.9 kB/s eta 0:00:14\n",
      "                                             0.1/10.6 MB 798.9 kB/s eta 0:00:14\n",
      "                                             0.2/10.6 MB 807.1 kB/s eta 0:00:13\n",
      "                                             0.2/10.6 MB 778.2 kB/s eta 0:00:14\n",
      "                                             0.2/10.6 MB 793.0 kB/s eta 0:00:14\n",
      "                                             0.3/10.6 MB 785.2 kB/s eta 0:00:14\n",
      "     -                                       0.3/10.6 MB 739.6 kB/s eta 0:00:15\n",
      "     -                                       0.3/10.6 MB 781.9 kB/s eta 0:00:14\n",
      "     -                                       0.4/10.6 MB 768.6 kB/s eta 0:00:14\n",
      "     -                                       0.4/10.6 MB 781.2 kB/s eta 0:00:14\n",
      "     -                                       0.4/10.6 MB 771.4 kB/s eta 0:00:14\n",
      "     -                                       0.5/10.6 MB 761.8 kB/s eta 0:00:14\n",
      "     -                                       0.5/10.6 MB 786.4 kB/s eta 0:00:13\n",
      "     -                                       0.5/10.6 MB 786.4 kB/s eta 0:00:13\n",
      "     --                                      0.6/10.6 MB 772.0 kB/s eta 0:00:14\n",
      "     --                                      0.7/10.6 MB 873.8 kB/s eta 0:00:12\n",
      "     ---                                      0.8/10.6 MB 1.0 MB/s eta 0:00:10\n",
      "     ---                                      0.9/10.6 MB 1.1 MB/s eta 0:00:09\n",
      "     ----                                     1.1/10.6 MB 1.3 MB/s eta 0:00:08\n",
      "     ----                                     1.3/10.6 MB 1.4 MB/s eta 0:00:07\n",
      "     -----                                    1.5/10.6 MB 1.6 MB/s eta 0:00:06\n",
      "     ------                                   1.6/10.6 MB 1.7 MB/s eta 0:00:06\n",
      "     ------                                   1.8/10.6 MB 1.7 MB/s eta 0:00:06\n",
      "     ------                                   1.8/10.6 MB 1.7 MB/s eta 0:00:06\n",
      "     -------                                  1.9/10.6 MB 1.7 MB/s eta 0:00:06\n",
      "     -------                                  1.9/10.6 MB 1.7 MB/s eta 0:00:06\n",
      "     -------                                  1.9/10.6 MB 1.6 MB/s eta 0:00:06\n",
      "     -------                                  2.0/10.6 MB 1.6 MB/s eta 0:00:06\n",
      "     -------                                  2.0/10.6 MB 1.6 MB/s eta 0:00:06\n",
      "     --------                                 2.2/10.6 MB 1.6 MB/s eta 0:00:06\n",
      "     --------                                 2.2/10.6 MB 1.6 MB/s eta 0:00:06\n",
      "     --------                                 2.3/10.6 MB 1.7 MB/s eta 0:00:05\n",
      "     ---------                                2.5/10.6 MB 1.7 MB/s eta 0:00:05\n",
      "     ---------                                2.6/10.6 MB 1.7 MB/s eta 0:00:05\n",
      "     ----------                               2.8/10.6 MB 1.8 MB/s eta 0:00:05\n",
      "     ----------                               2.9/10.6 MB 1.8 MB/s eta 0:00:05\n",
      "     -----------                              3.0/10.6 MB 1.9 MB/s eta 0:00:05\n",
      "     ------------                             3.2/10.6 MB 1.9 MB/s eta 0:00:04\n",
      "     ------------                             3.3/10.6 MB 2.0 MB/s eta 0:00:04\n",
      "     -------------                            3.5/10.6 MB 2.0 MB/s eta 0:00:04\n",
      "     -------------                            3.6/10.6 MB 2.1 MB/s eta 0:00:04\n",
      "     --------------                           3.8/10.6 MB 2.1 MB/s eta 0:00:04\n",
      "     ---------------                          4.0/10.6 MB 2.1 MB/s eta 0:00:04\n",
      "     ---------------                          4.2/10.6 MB 2.2 MB/s eta 0:00:03\n",
      "     ----------------                         4.4/10.6 MB 2.3 MB/s eta 0:00:03\n",
      "     -----------------                        4.7/10.6 MB 2.3 MB/s eta 0:00:03\n",
      "     ------------------                       4.8/10.6 MB 2.4 MB/s eta 0:00:03\n",
      "     -------------------                      5.1/10.6 MB 2.4 MB/s eta 0:00:03\n",
      "     -------------------                      5.3/10.6 MB 2.5 MB/s eta 0:00:03\n",
      "     --------------------                     5.4/10.6 MB 2.5 MB/s eta 0:00:03\n",
      "     --------------------                     5.5/10.6 MB 2.5 MB/s eta 0:00:03\n",
      "     ---------------------                    5.6/10.6 MB 2.5 MB/s eta 0:00:02\n",
      "     ---------------------                    5.8/10.6 MB 2.5 MB/s eta 0:00:02\n",
      "     ----------------------                   6.0/10.6 MB 2.6 MB/s eta 0:00:02\n",
      "     -----------------------                  6.2/10.6 MB 2.6 MB/s eta 0:00:02\n",
      "     -----------------------                  6.4/10.6 MB 2.6 MB/s eta 0:00:02\n",
      "     ------------------------                 6.5/10.6 MB 2.6 MB/s eta 0:00:02\n",
      "     ------------------------                 6.5/10.6 MB 2.6 MB/s eta 0:00:02\n",
      "     ------------------------                 6.5/10.6 MB 2.6 MB/s eta 0:00:02\n",
      "     ------------------------                 6.6/10.6 MB 2.6 MB/s eta 0:00:02\n",
      "     -------------------------                6.7/10.6 MB 2.5 MB/s eta 0:00:02\n",
      "     -------------------------                6.7/10.6 MB 2.6 MB/s eta 0:00:02\n",
      "     -------------------------                6.8/10.6 MB 2.5 MB/s eta 0:00:02\n",
      "     -------------------------                6.9/10.6 MB 2.5 MB/s eta 0:00:02\n",
      "     --------------------------               6.9/10.6 MB 2.5 MB/s eta 0:00:02\n",
      "     --------------------------               7.1/10.6 MB 2.5 MB/s eta 0:00:02\n",
      "     ---------------------------              7.3/10.6 MB 2.5 MB/s eta 0:00:02\n",
      "     ----------------------------             7.5/10.6 MB 2.6 MB/s eta 0:00:02\n",
      "     ----------------------------             7.7/10.6 MB 2.6 MB/s eta 0:00:02\n",
      "     -----------------------------            7.9/10.6 MB 2.6 MB/s eta 0:00:02\n",
      "     ------------------------------           8.1/10.6 MB 2.7 MB/s eta 0:00:01\n",
      "     -------------------------------          8.3/10.6 MB 2.7 MB/s eta 0:00:01\n",
      "     --------------------------------         8.6/10.6 MB 2.7 MB/s eta 0:00:01\n",
      "     --------------------------------         8.7/10.6 MB 2.7 MB/s eta 0:00:01\n",
      "     --------------------------------         8.7/10.6 MB 2.7 MB/s eta 0:00:01\n",
      "     ---------------------------------        8.8/10.6 MB 2.7 MB/s eta 0:00:01\n",
      "     ---------------------------------        9.0/10.6 MB 2.7 MB/s eta 0:00:01\n",
      "     ----------------------------------       9.1/10.6 MB 2.7 MB/s eta 0:00:01\n",
      "     ----------------------------------       9.1/10.6 MB 2.7 MB/s eta 0:00:01\n",
      "     ----------------------------------       9.1/10.6 MB 2.7 MB/s eta 0:00:01\n",
      "     ----------------------------------       9.1/10.6 MB 2.6 MB/s eta 0:00:01\n",
      "     ----------------------------------       9.2/10.6 MB 2.6 MB/s eta 0:00:01\n",
      "     ----------------------------------       9.2/10.6 MB 2.6 MB/s eta 0:00:01\n",
      "     -----------------------------------      9.4/10.6 MB 2.6 MB/s eta 0:00:01\n",
      "     -----------------------------------      9.5/10.6 MB 2.6 MB/s eta 0:00:01\n",
      "     -----------------------------------      9.5/10.6 MB 2.6 MB/s eta 0:00:01\n",
      "     ------------------------------------     9.6/10.6 MB 2.6 MB/s eta 0:00:01\n",
      "     ------------------------------------     9.7/10.6 MB 2.6 MB/s eta 0:00:01\n",
      "     -------------------------------------    10.0/10.6 MB 2.6 MB/s eta 0:00:01\n",
      "     --------------------------------------   10.2/10.6 MB 2.6 MB/s eta 0:00:01\n",
      "     --------------------------------------   10.3/10.6 MB 2.7 MB/s eta 0:00:01\n",
      "     ---------------------------------------  10.5/10.6 MB 2.8 MB/s eta 0:00:01\n",
      "     ---------------------------------------  10.6/10.6 MB 3.0 MB/s eta 0:00:01\n",
      "     ---------------------------------------  10.6/10.6 MB 3.0 MB/s eta 0:00:01\n",
      "     ---------------------------------------  10.6/10.6 MB 3.0 MB/s eta 0:00:01\n",
      "     ---------------------------------------- 10.6/10.6 MB 2.8 MB/s eta 0:00:00\n",
      "Collecting numpy>=1.23.2 (from pandas)\n",
      "  Downloading numpy-1.26.1-cp311-cp311-win_amd64.whl (15.8 MB)\n",
      "                                              0.0/15.8 MB ? eta -:--:--\n",
      "                                              0.2/15.8 MB 4.7 MB/s eta 0:00:04\n",
      "                                              0.4/15.8 MB 4.6 MB/s eta 0:00:04\n",
      "     -                                        0.5/15.8 MB 4.1 MB/s eta 0:00:04\n",
      "     -                                        0.7/15.8 MB 4.3 MB/s eta 0:00:04\n",
      "     --                                       0.9/15.8 MB 4.5 MB/s eta 0:00:04\n",
      "     --                                       1.0/15.8 MB 3.9 MB/s eta 0:00:04\n",
      "     --                                       1.1/15.8 MB 4.0 MB/s eta 0:00:04\n",
      "     ---                                      1.2/15.8 MB 3.4 MB/s eta 0:00:05\n",
      "     ---                                      1.4/15.8 MB 3.5 MB/s eta 0:00:05\n",
      "     ---                                      1.5/15.8 MB 3.5 MB/s eta 0:00:05\n",
      "     ---                                      1.6/15.8 MB 3.2 MB/s eta 0:00:05\n",
      "     ----                                     1.7/15.8 MB 3.2 MB/s eta 0:00:05\n",
      "     ----                                     1.9/15.8 MB 3.4 MB/s eta 0:00:05\n",
      "     -----                                    2.1/15.8 MB 3.5 MB/s eta 0:00:04\n",
      "     -----                                    2.3/15.8 MB 3.5 MB/s eta 0:00:04\n",
      "     ------                                   2.4/15.8 MB 3.5 MB/s eta 0:00:04\n",
      "     ------                                   2.5/15.8 MB 3.5 MB/s eta 0:00:04\n",
      "     ------                                   2.8/15.8 MB 3.6 MB/s eta 0:00:04\n",
      "     -------                                  2.9/15.8 MB 3.6 MB/s eta 0:00:04\n",
      "     -------                                  3.1/15.8 MB 3.6 MB/s eta 0:00:04\n",
      "     --------                                 3.3/15.8 MB 3.7 MB/s eta 0:00:04\n",
      "     --------                                 3.4/15.8 MB 3.7 MB/s eta 0:00:04\n",
      "     ---------                                3.7/15.8 MB 3.8 MB/s eta 0:00:04\n",
      "     ---------                                3.9/15.8 MB 3.8 MB/s eta 0:00:04\n",
      "     ----------                               4.1/15.8 MB 3.9 MB/s eta 0:00:04\n",
      "     -----------                              4.4/15.8 MB 3.9 MB/s eta 0:00:03\n",
      "     -----------                              4.5/15.8 MB 3.9 MB/s eta 0:00:03\n",
      "     -----------                              4.7/15.8 MB 4.0 MB/s eta 0:00:03\n",
      "     ------------                             4.9/15.8 MB 4.0 MB/s eta 0:00:03\n",
      "     ------------                             5.1/15.8 MB 3.9 MB/s eta 0:00:03\n",
      "     ------------                             5.1/15.8 MB 3.9 MB/s eta 0:00:03\n",
      "     -------------                            5.2/15.8 MB 3.8 MB/s eta 0:00:03\n",
      "     -------------                            5.3/15.8 MB 3.8 MB/s eta 0:00:03\n",
      "     -------------                            5.3/15.8 MB 3.7 MB/s eta 0:00:03\n",
      "     -------------                            5.3/15.8 MB 3.7 MB/s eta 0:00:03\n",
      "     -------------                            5.3/15.8 MB 3.5 MB/s eta 0:00:03\n",
      "     -------------                            5.4/15.8 MB 3.5 MB/s eta 0:00:03\n",
      "     --------------                           5.6/15.8 MB 3.5 MB/s eta 0:00:03\n",
      "     --------------                           5.8/15.8 MB 3.5 MB/s eta 0:00:03\n",
      "     ---------------                          5.9/15.8 MB 3.6 MB/s eta 0:00:03\n",
      "     ---------------                          6.1/15.8 MB 3.5 MB/s eta 0:00:03\n",
      "     ----------------                         6.4/15.8 MB 3.6 MB/s eta 0:00:03\n",
      "     ----------------                         6.6/15.8 MB 3.6 MB/s eta 0:00:03\n",
      "     -----------------                        6.7/15.8 MB 3.6 MB/s eta 0:00:03\n",
      "     -----------------                        6.9/15.8 MB 3.6 MB/s eta 0:00:03\n",
      "     -----------------                        7.1/15.8 MB 3.6 MB/s eta 0:00:03\n",
      "     ------------------                       7.3/15.8 MB 3.7 MB/s eta 0:00:03\n",
      "     ------------------                       7.4/15.8 MB 3.6 MB/s eta 0:00:03\n",
      "     -------------------                      7.6/15.8 MB 3.6 MB/s eta 0:00:03\n",
      "     -------------------                      7.8/15.8 MB 3.7 MB/s eta 0:00:03\n",
      "     --------------------                     8.0/15.8 MB 3.7 MB/s eta 0:00:03\n",
      "     --------------------                     8.1/15.8 MB 3.7 MB/s eta 0:00:03\n",
      "     --------------------                     8.3/15.8 MB 3.7 MB/s eta 0:00:03\n",
      "     --------------------                     8.3/15.8 MB 3.7 MB/s eta 0:00:03\n",
      "     ---------------------                    8.4/15.8 MB 3.6 MB/s eta 0:00:03\n",
      "     ---------------------                    8.4/15.8 MB 3.5 MB/s eta 0:00:03\n",
      "     ---------------------                    8.4/15.8 MB 3.5 MB/s eta 0:00:03\n",
      "     ---------------------                    8.4/15.8 MB 3.4 MB/s eta 0:00:03\n",
      "     ---------------------                    8.5/15.8 MB 3.4 MB/s eta 0:00:03\n",
      "     ---------------------                    8.6/15.8 MB 3.4 MB/s eta 0:00:03\n",
      "     ---------------------                    8.7/15.8 MB 3.4 MB/s eta 0:00:03\n",
      "     ----------------------                   8.9/15.8 MB 3.4 MB/s eta 0:00:03\n",
      "     ----------------------                   9.0/15.8 MB 3.4 MB/s eta 0:00:03\n",
      "     -----------------------                  9.2/15.8 MB 3.4 MB/s eta 0:00:02\n",
      "     -----------------------                  9.4/15.8 MB 3.4 MB/s eta 0:00:02\n",
      "     -----------------------                  9.5/15.8 MB 3.4 MB/s eta 0:00:02\n",
      "     ------------------------                 9.6/15.8 MB 3.4 MB/s eta 0:00:02\n",
      "     ------------------------                 9.7/15.8 MB 3.4 MB/s eta 0:00:02\n",
      "     ------------------------                 9.8/15.8 MB 3.4 MB/s eta 0:00:02\n",
      "     -------------------------                9.9/15.8 MB 3.4 MB/s eta 0:00:02\n",
      "     -------------------------                10.1/15.8 MB 3.4 MB/s eta 0:00:02\n",
      "     --------------------------               10.3/15.8 MB 3.4 MB/s eta 0:00:02\n",
      "     --------------------------               10.5/15.8 MB 3.4 MB/s eta 0:00:02\n",
      "     --------------------------               10.7/15.8 MB 3.4 MB/s eta 0:00:02\n",
      "     ---------------------------              10.8/15.8 MB 3.4 MB/s eta 0:00:02\n",
      "     ---------------------------              11.0/15.8 MB 3.4 MB/s eta 0:00:02\n",
      "     ----------------------------             11.2/15.8 MB 3.4 MB/s eta 0:00:02\n",
      "     ----------------------------             11.3/15.8 MB 3.4 MB/s eta 0:00:02\n",
      "     ----------------------------             11.4/15.8 MB 3.4 MB/s eta 0:00:02\n",
      "     -----------------------------            11.6/15.8 MB 3.4 MB/s eta 0:00:02\n",
      "     -----------------------------            11.7/15.8 MB 3.4 MB/s eta 0:00:02\n",
      "     ------------------------------           11.9/15.8 MB 3.5 MB/s eta 0:00:02\n",
      "     ------------------------------           12.1/15.8 MB 3.5 MB/s eta 0:00:02\n",
      "     ------------------------------           12.2/15.8 MB 3.5 MB/s eta 0:00:02\n",
      "     -------------------------------          12.4/15.8 MB 3.5 MB/s eta 0:00:01\n",
      "     -------------------------------          12.5/15.8 MB 3.5 MB/s eta 0:00:01\n",
      "     --------------------------------         12.7/15.8 MB 3.5 MB/s eta 0:00:01\n",
      "     --------------------------------         12.8/15.8 MB 3.5 MB/s eta 0:00:01\n",
      "     --------------------------------         12.9/15.8 MB 3.5 MB/s eta 0:00:01\n",
      "     ---------------------------------        13.0/15.8 MB 3.4 MB/s eta 0:00:01\n",
      "     ---------------------------------        13.1/15.8 MB 3.4 MB/s eta 0:00:01\n",
      "     ---------------------------------        13.2/15.8 MB 3.4 MB/s eta 0:00:01\n",
      "     ---------------------------------        13.3/15.8 MB 3.4 MB/s eta 0:00:01\n",
      "     ---------------------------------        13.4/15.8 MB 3.3 MB/s eta 0:00:01\n",
      "     ----------------------------------       13.5/15.8 MB 3.3 MB/s eta 0:00:01\n",
      "     ----------------------------------       13.7/15.8 MB 3.3 MB/s eta 0:00:01\n",
      "     ----------------------------------       13.7/15.8 MB 3.3 MB/s eta 0:00:01\n",
      "     -----------------------------------      13.9/15.8 MB 3.3 MB/s eta 0:00:01\n",
      "     -----------------------------------      14.1/15.8 MB 3.3 MB/s eta 0:00:01\n",
      "     ------------------------------------     14.3/15.8 MB 3.3 MB/s eta 0:00:01\n",
      "     ------------------------------------     14.6/15.8 MB 3.3 MB/s eta 0:00:01\n",
      "     -------------------------------------    14.7/15.8 MB 3.3 MB/s eta 0:00:01\n",
      "     -------------------------------------    14.8/15.8 MB 3.3 MB/s eta 0:00:01\n",
      "     -------------------------------------    14.9/15.8 MB 3.3 MB/s eta 0:00:01\n",
      "     -------------------------------------    15.0/15.8 MB 3.2 MB/s eta 0:00:01\n",
      "     --------------------------------------   15.0/15.8 MB 3.2 MB/s eta 0:00:01\n",
      "     --------------------------------------   15.1/15.8 MB 3.2 MB/s eta 0:00:01\n",
      "     --------------------------------------   15.1/15.8 MB 3.1 MB/s eta 0:00:01\n",
      "     --------------------------------------   15.2/15.8 MB 3.1 MB/s eta 0:00:01\n",
      "     ---------------------------------------  15.4/15.8 MB 3.1 MB/s eta 0:00:01\n",
      "     ---------------------------------------  15.6/15.8 MB 3.3 MB/s eta 0:00:01\n",
      "     ---------------------------------------  15.8/15.8 MB 3.3 MB/s eta 0:00:01\n",
      "     ---------------------------------------  15.8/15.8 MB 3.3 MB/s eta 0:00:01\n",
      "     ---------------------------------------  15.8/15.8 MB 3.3 MB/s eta 0:00:01\n",
      "     ---------------------------------------- 15.8/15.8 MB 3.2 MB/s eta 0:00:00\n",
      "Requirement already satisfied: python-dateutil>=2.8.2 in c:\\users\\leona\\appdata\\roaming\\python\\python311\\site-packages (from pandas) (2.8.2)\n",
      "Collecting pytz>=2020.1 (from pandas)\n",
      "  Downloading pytz-2023.3.post1-py2.py3-none-any.whl (502 kB)\n",
      "                                              0.0/502.5 kB ? eta -:--:--\n",
      "     --------                               112.6/502.5 kB 3.2 MB/s eta 0:00:01\n",
      "     ---------------------                  286.7/502.5 kB 3.5 MB/s eta 0:00:01\n",
      "     -------------------------------        419.8/502.5 kB 3.3 MB/s eta 0:00:01\n",
      "     -------------------------------------- 502.5/502.5 kB 3.1 MB/s eta 0:00:00\n",
      "Collecting tzdata>=2022.1 (from pandas)\n",
      "  Downloading tzdata-2023.3-py2.py3-none-any.whl (341 kB)\n",
      "                                              0.0/341.8 kB ? eta -:--:--\n",
      "     --------                                71.7/341.8 kB 2.0 MB/s eta 0:00:01\n",
      "     -------------------                    174.1/341.8 kB 2.1 MB/s eta 0:00:01\n",
      "     ------------------------------         276.5/341.8 kB 2.4 MB/s eta 0:00:01\n",
      "     -------------------------------------- 341.8/341.8 kB 2.1 MB/s eta 0:00:00\n",
      "Requirement already satisfied: six>=1.5 in c:\\users\\leona\\appdata\\roaming\\python\\python311\\site-packages (from python-dateutil>=2.8.2->pandas) (1.16.0)\n",
      "Installing collected packages: pytz, tzdata, numpy, pandas\n",
      "Successfully installed numpy-1.26.1 pandas-2.1.1 pytz-2023.3.post1 tzdata-2023.3\n",
      "Note: you may need to restart the kernel to use updated packages.\n"
     ]
    },
    {
     "name": "stderr",
     "output_type": "stream",
     "text": [
      "  WARNING: The script f2py.exe is installed in 'c:\\Users\\leona\\AppData\\Local\\Programs\\Python\\Python311\\Scripts' which is not on PATH.\n",
      "  Consider adding this directory to PATH or, if you prefer to suppress this warning, use --no-warn-script-location.\n",
      "\n",
      "[notice] A new release of pip is available: 23.1.2 -> 23.2.1\n",
      "[notice] To update, run: python.exe -m pip install --upgrade pip\n"
     ]
    }
   ],
   "source": [
    "pip install pandas"
   ]
  },
  {
   "cell_type": "code",
   "execution_count": 3,
   "metadata": {},
   "outputs": [
    {
     "name": "stdout",
     "output_type": "stream",
     "text": [
      "Note: you may need to restart the kernel to use updated packages.\n"
     ]
    },
    {
     "name": "stderr",
     "output_type": "stream",
     "text": [
      "ERROR: Could not find a version that satisfies the requirement matplotlib.pyplot (from versions: none)\n",
      "ERROR: No matching distribution found for matplotlib.pyplot\n",
      "\n",
      "[notice] A new release of pip is available: 23.1.2 -> 23.2.1\n",
      "[notice] To update, run: python.exe -m pip install --upgrade pip\n"
     ]
    }
   ],
   "source": [
    "pip install matplotlib.pyplot"
   ]
  },
  {
   "cell_type": "code",
   "execution_count": 4,
   "metadata": {},
   "outputs": [
    {
     "name": "stdout",
     "output_type": "stream",
     "text": [
      "Note: you may need to restart the kernel to use updated packages.\n"
     ]
    },
    {
     "name": "stderr",
     "output_type": "stream",
     "text": [
      "ERROR: Could not find a version that satisfies the requirement matplotlib.backends.backend_tkagg (from versions: none)\n",
      "ERROR: No matching distribution found for matplotlib.backends.backend_tkagg\n",
      "\n",
      "[notice] A new release of pip is available: 23.1.2 -> 23.2.1\n",
      "[notice] To update, run: python.exe -m pip install --upgrade pip\n"
     ]
    }
   ],
   "source": [
    "pip install matplotlib.backends.backend_tkagg"
   ]
  },
  {
   "cell_type": "code",
   "execution_count": 2,
   "metadata": {},
   "outputs": [
    {
     "name": "stdout",
     "output_type": "stream",
     "text": [
      "Note: you may need to restart the kernel to use updated packages.\n"
     ]
    },
    {
     "name": "stderr",
     "output_type": "stream",
     "text": [
      "ERROR: Could not find a version that satisfies the requirement tkinter (from versions: none)\n",
      "ERROR: No matching distribution found for tkinter\n",
      "\n",
      "[notice] A new release of pip is available: 23.1.2 -> 23.2.1\n",
      "[notice] To update, run: python.exe -m pip install --upgrade pip\n"
     ]
    }
   ],
   "source": [
    "pip install tkinter"
   ]
  },
  {
   "cell_type": "code",
   "execution_count": 5,
   "metadata": {},
   "outputs": [
    {
     "name": "stdout",
     "output_type": "stream",
     "text": [
      "Requirement already satisfied: matplotlib in c:\\users\\leona\\appdata\\local\\programs\\python\\python311\\lib\\site-packages (3.8.0)\n",
      "Requirement already satisfied: contourpy>=1.0.1 in c:\\users\\leona\\appdata\\local\\programs\\python\\python311\\lib\\site-packages (from matplotlib) (1.1.1)\n",
      "Requirement already satisfied: cycler>=0.10 in c:\\users\\leona\\appdata\\local\\programs\\python\\python311\\lib\\site-packages (from matplotlib) (0.12.1)\n",
      "Requirement already satisfied: fonttools>=4.22.0 in c:\\users\\leona\\appdata\\local\\programs\\python\\python311\\lib\\site-packages (from matplotlib) (4.43.1)\n",
      "Requirement already satisfied: kiwisolver>=1.0.1 in c:\\users\\leona\\appdata\\local\\programs\\python\\python311\\lib\\site-packages (from matplotlib) (1.4.5)\n",
      "Requirement already satisfied: numpy<2,>=1.21 in c:\\users\\leona\\appdata\\local\\programs\\python\\python311\\lib\\site-packages (from matplotlib) (1.26.1)\n",
      "Requirement already satisfied: packaging>=20.0 in c:\\users\\leona\\appdata\\roaming\\python\\python311\\site-packages (from matplotlib) (23.2)\n",
      "Requirement already satisfied: pillow>=6.2.0 in c:\\users\\leona\\appdata\\local\\programs\\python\\python311\\lib\\site-packages (from matplotlib) (10.0.1)\n",
      "Requirement already satisfied: pyparsing>=2.3.1 in c:\\users\\leona\\appdata\\local\\programs\\python\\python311\\lib\\site-packages (from matplotlib) (3.1.1)\n",
      "Requirement already satisfied: python-dateutil>=2.7 in c:\\users\\leona\\appdata\\roaming\\python\\python311\\site-packages (from matplotlib) (2.8.2)\n",
      "Requirement already satisfied: six>=1.5 in c:\\users\\leona\\appdata\\roaming\\python\\python311\\site-packages (from python-dateutil>=2.7->matplotlib) (1.16.0)\n",
      "Note: you may need to restart the kernel to use updated packages.\n"
     ]
    },
    {
     "name": "stderr",
     "output_type": "stream",
     "text": [
      "\n",
      "[notice] A new release of pip is available: 23.1.2 -> 23.2.1\n",
      "[notice] To update, run: python.exe -m pip install --upgrade pip\n"
     ]
    }
   ],
   "source": [
    "pip install matplotlib\n"
   ]
  },
  {
   "cell_type": "code",
   "execution_count": null,
   "metadata": {},
   "outputs": [],
   "source": []
  }
 ],
 "metadata": {
  "kernelspec": {
   "display_name": "Python 3",
   "language": "python",
   "name": "python3"
  },
  "language_info": {
   "codemirror_mode": {
    "name": "ipython",
    "version": 3
   },
   "file_extension": ".py",
   "mimetype": "text/x-python",
   "name": "python",
   "nbconvert_exporter": "python",
   "pygments_lexer": "ipython3",
   "version": "3.11.4"
  }
 },
 "nbformat": 4,
 "nbformat_minor": 2
}
